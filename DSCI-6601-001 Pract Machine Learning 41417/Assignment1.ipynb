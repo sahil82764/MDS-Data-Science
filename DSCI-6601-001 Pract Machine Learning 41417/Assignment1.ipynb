{
 "cells": [
  {
   "cell_type": "markdown",
   "metadata": {},
   "source": [
    "# Assignment 1 \n",
    "## Linear Regression Analysis on USA Housing Dataset\n",
    "\n",
    "DSCI 6601: Practical Machine Learning\n",
    "\n",
    "Student: Sahil Khan\n",
    "\n",
    "Date: 01-Oct-2024\n",
    "_____________________________________________________________________________________________________________________________________________________________________________________________"
   ]
  },
  {
   "cell_type": "markdown",
   "metadata": {},
   "source": [
    "### Introduction\n",
    "In this assignment, we will analyze the USA Housing dataset using linear regression. The objective is to build a linear regression model, evaluate its performance, and explore how the features influence the predictions. We will perform the tasks listed in the assignment and include our Python code, comments explaining each step, and the corresponding outputs for each question. The dataset can be downloaded from the following link: https://www.kaggle.com/datasets/vedavyasv/usa-housing.\n",
    "_____________________________________________________________________________________________________________________________________________________________________________________________"
   ]
  },
  {
   "cell_type": "markdown",
   "metadata": {},
   "source": [
    "### IMPORTING LIBRARIES"
   ]
  },
  {
   "cell_type": "code",
   "execution_count": 1,
   "metadata": {},
   "outputs": [],
   "source": [
    "import numpy as np\n",
    "import pandas as pd\n",
    "from sklearn.model_selection import train_test_split\n",
    "from sklearn.linear_model import LinearRegression\n",
    "from sklearn.metrics import r2_score"
   ]
  },
  {
   "cell_type": "markdown",
   "metadata": {},
   "source": [
    "_____________________________________________________________________________________________________________________________________________________________________________________________"
   ]
  },
  {
   "cell_type": "markdown",
   "metadata": {},
   "source": [
    "## Task 1\n",
    "### i) Model Fitting and Evaluation\n",
    "- Splitting data into a training set (80%) and a testing set (20%).\n",
    "- Building linear regression model to fit the training data."
   ]
  },
  {
   "cell_type": "code",
   "execution_count": 2,
   "metadata": {},
   "outputs": [],
   "source": [
    "housingData = pd.read_csv('data/USA_Housing.csv')   # Loading the data\n",
    "\n",
    "\n",
    "X = housingData.drop(['Price', 'Address'], axis=1)  # Select all columns except 'Price' and 'Address'\n",
    "y = housingData.iloc[:, -2] # Select the second last column 'Price'\n",
    "\n",
    "# Data split into train and test\n",
    "X_train, X_test, y_train, y_test = train_test_split(X, y, test_size=0.2, random_state=42)\n"
   ]
  },
  {
   "cell_type": "markdown",
   "metadata": {},
   "source": [
    "We removed the 'Address' column from the training dataset for the following reasons:\n",
    "- It is the only column with string data, which is not useful for our current analysis.\n",
    "- The absence of postal codes in the 'Address' limits its usefulness, as postal codes could significantly impact house price predictions. Therefore, we excluded this column."
   ]
  },
  {
   "cell_type": "code",
   "execution_count": 3,
   "metadata": {},
   "outputs": [
    {
     "data": {
      "text/html": [
       "<style>#sk-container-id-1 {color: black;}#sk-container-id-1 pre{padding: 0;}#sk-container-id-1 div.sk-toggleable {background-color: white;}#sk-container-id-1 label.sk-toggleable__label {cursor: pointer;display: block;width: 100%;margin-bottom: 0;padding: 0.3em;box-sizing: border-box;text-align: center;}#sk-container-id-1 label.sk-toggleable__label-arrow:before {content: \"▸\";float: left;margin-right: 0.25em;color: #696969;}#sk-container-id-1 label.sk-toggleable__label-arrow:hover:before {color: black;}#sk-container-id-1 div.sk-estimator:hover label.sk-toggleable__label-arrow:before {color: black;}#sk-container-id-1 div.sk-toggleable__content {max-height: 0;max-width: 0;overflow: hidden;text-align: left;background-color: #f0f8ff;}#sk-container-id-1 div.sk-toggleable__content pre {margin: 0.2em;color: black;border-radius: 0.25em;background-color: #f0f8ff;}#sk-container-id-1 input.sk-toggleable__control:checked~div.sk-toggleable__content {max-height: 200px;max-width: 100%;overflow: auto;}#sk-container-id-1 input.sk-toggleable__control:checked~label.sk-toggleable__label-arrow:before {content: \"▾\";}#sk-container-id-1 div.sk-estimator input.sk-toggleable__control:checked~label.sk-toggleable__label {background-color: #d4ebff;}#sk-container-id-1 div.sk-label input.sk-toggleable__control:checked~label.sk-toggleable__label {background-color: #d4ebff;}#sk-container-id-1 input.sk-hidden--visually {border: 0;clip: rect(1px 1px 1px 1px);clip: rect(1px, 1px, 1px, 1px);height: 1px;margin: -1px;overflow: hidden;padding: 0;position: absolute;width: 1px;}#sk-container-id-1 div.sk-estimator {font-family: monospace;background-color: #f0f8ff;border: 1px dotted black;border-radius: 0.25em;box-sizing: border-box;margin-bottom: 0.5em;}#sk-container-id-1 div.sk-estimator:hover {background-color: #d4ebff;}#sk-container-id-1 div.sk-parallel-item::after {content: \"\";width: 100%;border-bottom: 1px solid gray;flex-grow: 1;}#sk-container-id-1 div.sk-label:hover label.sk-toggleable__label {background-color: #d4ebff;}#sk-container-id-1 div.sk-serial::before {content: \"\";position: absolute;border-left: 1px solid gray;box-sizing: border-box;top: 0;bottom: 0;left: 50%;z-index: 0;}#sk-container-id-1 div.sk-serial {display: flex;flex-direction: column;align-items: center;background-color: white;padding-right: 0.2em;padding-left: 0.2em;position: relative;}#sk-container-id-1 div.sk-item {position: relative;z-index: 1;}#sk-container-id-1 div.sk-parallel {display: flex;align-items: stretch;justify-content: center;background-color: white;position: relative;}#sk-container-id-1 div.sk-item::before, #sk-container-id-1 div.sk-parallel-item::before {content: \"\";position: absolute;border-left: 1px solid gray;box-sizing: border-box;top: 0;bottom: 0;left: 50%;z-index: -1;}#sk-container-id-1 div.sk-parallel-item {display: flex;flex-direction: column;z-index: 1;position: relative;background-color: white;}#sk-container-id-1 div.sk-parallel-item:first-child::after {align-self: flex-end;width: 50%;}#sk-container-id-1 div.sk-parallel-item:last-child::after {align-self: flex-start;width: 50%;}#sk-container-id-1 div.sk-parallel-item:only-child::after {width: 0;}#sk-container-id-1 div.sk-dashed-wrapped {border: 1px dashed gray;margin: 0 0.4em 0.5em 0.4em;box-sizing: border-box;padding-bottom: 0.4em;background-color: white;}#sk-container-id-1 div.sk-label label {font-family: monospace;font-weight: bold;display: inline-block;line-height: 1.2em;}#sk-container-id-1 div.sk-label-container {text-align: center;}#sk-container-id-1 div.sk-container {/* jupyter's `normalize.less` sets `[hidden] { display: none; }` but bootstrap.min.css set `[hidden] { display: none !important; }` so we also need the `!important` here to be able to override the default hidden behavior on the sphinx rendered scikit-learn.org. See: https://github.com/scikit-learn/scikit-learn/issues/21755 */display: inline-block !important;position: relative;}#sk-container-id-1 div.sk-text-repr-fallback {display: none;}</style><div id=\"sk-container-id-1\" class=\"sk-top-container\"><div class=\"sk-text-repr-fallback\"><pre>LinearRegression()</pre><b>In a Jupyter environment, please rerun this cell to show the HTML representation or trust the notebook. <br />On GitHub, the HTML representation is unable to render, please try loading this page with nbviewer.org.</b></div><div class=\"sk-container\" hidden><div class=\"sk-item\"><div class=\"sk-estimator sk-toggleable\"><input class=\"sk-toggleable__control sk-hidden--visually\" id=\"sk-estimator-id-1\" type=\"checkbox\" checked><label for=\"sk-estimator-id-1\" class=\"sk-toggleable__label sk-toggleable__label-arrow\">LinearRegression</label><div class=\"sk-toggleable__content\"><pre>LinearRegression()</pre></div></div></div></div></div>"
      ],
      "text/plain": [
       "LinearRegression()"
      ]
     },
     "execution_count": 3,
     "metadata": {},
     "output_type": "execute_result"
    }
   ],
   "source": [
    "# Linear regression model\n",
    "housingModel = LinearRegression()\n",
    "housingModel.fit(X_train, y_train)"
   ]
  },
  {
   "cell_type": "markdown",
   "metadata": {},
   "source": [
    "Now the model is successfully fitted using the training data."
   ]
  },
  {
   "cell_type": "markdown",
   "metadata": {},
   "source": [
    "### ii) Reporting Coefficients and Model Evaluation\n",
    "Now we retrieve the model's coefficients and intercept. We also calculate the R2 score to evaluate the model's performance on the test data."
   ]
  },
  {
   "cell_type": "code",
   "execution_count": 4,
   "metadata": {},
   "outputs": [
    {
     "name": "stdout",
     "output_type": "stream",
     "text": [
      "RESULT:\n",
      "Intercept: -2635072.900931213\n",
      "Coefficients: [2.16522058e+01 1.64666481e+05 1.19624012e+05 2.44037761e+03\n",
      " 1.52703134e+01]\n",
      "R2 Score: 0.9179971706834602\n"
     ]
    }
   ],
   "source": [
    "# Model coefficients and intercept\n",
    "print(\"RESULT:\")\n",
    "print(\"Intercept:\", housingModel.intercept_)\n",
    "print(\"Coefficients:\", housingModel.coef_)\n",
    "\n",
    "y_pred = housingModel.predict(X_test)\n",
    "\n",
    "# Evaluate model using R2 score\n",
    "r2Score = r2_score(y_test, y_pred)\n",
    "print(\"R2 Score:\", r2Score)"
   ]
  },
  {
   "cell_type": "markdown",
   "metadata": {},
   "source": [
    "R2 score of 0.91 suggests that 91% of the variance in the data is captured by the model, indicating a strong fit.\n",
    "_____________________________________________________________________________________________________________________________________________________________________________________________"
   ]
  },
  {
   "cell_type": "markdown",
   "metadata": {},
   "source": [
    "## Task 2\n",
    "### Predictions on Sample Data\n",
    "Now we randomly select 20 samples in random from the test set. Using the fitted model, make predictions for these inputs and compare the predicted values to the actual values and present in our results in a table."
   ]
  },
  {
   "cell_type": "code",
   "execution_count": 5,
   "metadata": {},
   "outputs": [
    {
     "name": "stdout",
     "output_type": "stream",
     "text": [
      "          Actual   Predicted       Diff\n",
      "4615  1434835.95  1484464.02  -49628.06\n",
      "1718  1251688.62  1256991.46   -5302.85\n",
      "393   1638265.39  1621289.95   16975.44\n",
      "3496   561703.77   722156.79 -160453.02\n",
      "95    1840236.01  1598770.08  241465.93\n",
      "144   1230149.14  1253548.56  -23399.42\n",
      "927   1626941.79  1499196.39  127745.39\n",
      "296    984311.77   962610.88   21700.89\n",
      "1108  1423296.12  1457954.83  -34658.71\n",
      "3970  1271518.96  1060076.43  211442.54\n",
      "3375  1311389.58  1374687.26  -63297.69\n",
      "2119  1111580.10  1103733.14    7846.96\n",
      "1553   541953.91   593301.15  -51347.25\n",
      "4231  1794014.30  1563758.96  230255.33\n",
      "2710   783350.67   967240.33 -183889.65\n",
      "1973  1608726.68  1516813.82   91912.86\n",
      "2707  1439431.45  1560733.67 -121302.22\n",
      "2195  1014093.31   998979.74   15113.57\n",
      "1615   493350.03   432977.16   60372.87\n",
      "239   1690091.02  1691529.14   -1438.12\n"
     ]
    }
   ],
   "source": [
    "# Randomly select 20 samples\n",
    "sampleIndices = np.random.choice(X_test.index, 20, replace=False)\n",
    "X_sample = X_test.loc[sampleIndices]    # Sample Test Data\n",
    "y_actual = y_test.loc[sampleIndices]    # Corresponding Actual Target data\n",
    "\n",
    "\n",
    "y_predicted = housingModel.predict(X_sample)\n",
    "\n",
    "\n",
    "# Compare predicted and actual values\n",
    "table = pd.DataFrame({'Actual': round(y_actual,2), 'Predicted': np.round(y_predicted,2), 'Diff': round(y_actual - y_predicted, 2)})\n",
    "print(table)"
   ]
  },
  {
   "cell_type": "markdown",
   "metadata": {},
   "source": [
    "The table above compares the predicted prices to the actual prices for selected 20 random test samples. Variance is less indicating that the model performs well.\n",
    "_____________________________________________________________________________________________________________________________________________________________________________________________"
   ]
  },
  {
   "cell_type": "markdown",
   "metadata": {},
   "source": [
    "## Task 3. \n",
    "### Feature Importance and Model Adjustment\n",
    "Based on the model’s coefficients, we will rank the features by importance. We are gonna drop the least important feature and re-fit the model using the remaining features. Then we will recalculate the R2 score for the new model and compare it to the original R2."
   ]
  },
  {
   "cell_type": "code",
   "execution_count": 6,
   "metadata": {},
   "outputs": [
    {
     "name": "stdout",
     "output_type": "stream",
     "text": [
      "Feature Importance:\n",
      "                         Feature    Coefficient\n",
      "1           Avg. Area House Age  164666.480722\n",
      "2     Avg. Area Number of Rooms  119624.012232\n",
      "3  Avg. Area Number of Bedrooms    2440.377611\n",
      "0              Avg. Area Income      21.652206\n",
      "4               Area Population      15.270313\n",
      "\n",
      "Refined R2 Score: 0.7466716127211295\n",
      "Original R2 Score: 0.9179971706834602\n"
     ]
    }
   ],
   "source": [
    "# Ranking features by importance\n",
    "featureRank = pd.DataFrame({'Feature': X.columns, 'Coefficient': np.abs(housingModel.coef_)})   # taking absolute value of coefficient because it can be -ve or +ve.\n",
    "featureRank = featureRank.sort_values(by='Coefficient', ascending=False)    # sorting ranks\n",
    "print(\"Feature Importance:\\n\", featureRank)\n",
    "\n",
    "# Dropping the least important feature\n",
    "leastRank = featureRank['Feature'].iloc[-1]\n",
    "X_train_new = X_train.drop(columns=[leastRank]) # new train data\n",
    "X_test_new = X_test.drop(columns=[leastRank])   # new test data\n",
    "\n",
    "# Refit the model without the least important feature\n",
    "housingModelNew = LinearRegression()\n",
    "housingModelNew.fit(X_train_new, y_train)\n",
    "\n",
    "# Recalculate R2 score\n",
    "r2_score_new = housingModelNew.score(X_test_new, y_test)\n",
    "print(\"\\nRefined R2 Score:\", r2_score_new)\n",
    "print(\"Original R2 Score:\", r2Score)"
   ]
  },
  {
   "cell_type": "markdown",
   "metadata": {},
   "source": [
    "_____________________________________________________________________________________________________________________________________________________________________________________________"
   ]
  },
  {
   "cell_type": "markdown",
   "metadata": {},
   "source": [
    "#### FINDINGS:\n",
    "\n",
    "After dropping the 'Area Population' feature, the R2 score decreased from **0.91** to **0.74**. This indicates that the 'Area Population' feature had a substantial impact on the model's predictive power, and removing it significantly degrades the model's performance.\n",
    "\n",
    "_____________________________________________________________________________________________________________________________________________________________________________________________"
   ]
  },
  {
   "cell_type": "markdown",
   "metadata": {},
   "source": [
    "### Conclusion\n",
    "In this analysis, we successfully built and evaluated a linear regression model to predict housing prices. The model demonstrated a good fit, with an R² score of 0.91. We also ranked the features by importance and found that dropping the least important feature (AREA POPULATION) had significant impact on the model’s accuracy, suggesting that all features are equally impactful.\n",
    "\n",
    "This assignment showcases the effectiveness of linear regression for predicting housing prices and highlights the importance of feature selection in improving model performance."
   ]
  }
 ],
 "metadata": {
  "kernelspec": {
   "display_name": "Python 3",
   "language": "python",
   "name": "python3"
  },
  "language_info": {
   "codemirror_mode": {
    "name": "ipython",
    "version": 3
   },
   "file_extension": ".py",
   "mimetype": "text/x-python",
   "name": "python",
   "nbconvert_exporter": "python",
   "pygments_lexer": "ipython3",
   "version": "3.8.0"
  }
 },
 "nbformat": 4,
 "nbformat_minor": 2
}
