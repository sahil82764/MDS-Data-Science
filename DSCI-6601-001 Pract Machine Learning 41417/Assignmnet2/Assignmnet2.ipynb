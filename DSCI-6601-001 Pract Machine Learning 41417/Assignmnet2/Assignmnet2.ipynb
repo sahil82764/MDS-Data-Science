{
 "cells": [
  {
   "cell_type": "markdown",
   "metadata": {},
   "source": [
    "# Assignment 2 \n",
    "## DECISION TREE\n",
    "\n",
    "DSCI 6601: Practical Machine Learning\n",
    "\n",
    "Student: Sahil Khan\n",
    "\n",
    "Date: __-Oct-2024\n",
    "_____________________________________________________________________________________________________________________________________________________________________________________________"
   ]
  },
  {
   "cell_type": "markdown",
   "metadata": {},
   "source": [
    "### INTRODUCTION\n",
    "\n",
    "For this assignment, we chose a publicly available dataset on kaggle that contains at least five features. The goal is to build a Decision Tree Classifier depending on the nature of our dataset. We will evaluate the model’s performance and analyze how the features contribute to the predictions. We will complete the tasks outlined below, and ensure to include both our Python code and the dataset in our submission.\n",
    "\n",
    "_____________________________________________________________________________________________________________________________________________________________________________________________"
   ]
  },
  {
   "cell_type": "markdown",
   "metadata": {},
   "source": [
    "### IMPORTING LIBRARIES"
   ]
  },
  {
   "cell_type": "code",
   "execution_count": 1,
   "metadata": {},
   "outputs": [],
   "source": [
    "import numpy as np\n",
    "import pandas as pd\n",
    "from sklearn.model_selection import train_test_split\n",
    "from sklearn.linear_model import LinearRegression\n",
    "from sklearn.metrics import r2_score\n",
    "import warnings\n",
    "warnings.filterwarnings(\"ignore\")"
   ]
  },
  {
   "cell_type": "markdown",
   "metadata": {},
   "source": [
    "## TASK 1: Dataset Overview \n",
    "- We will provide a basic overview of the dataset, including details such as feature names, target variable, presence of missing values, and identification of categorical features."
   ]
  },
  {
   "cell_type": "code",
   "execution_count": 2,
   "metadata": {},
   "outputs": [
    {
     "data": {
      "text/html": [
       "<div>\n",
       "<style scoped>\n",
       "    .dataframe tbody tr th:only-of-type {\n",
       "        vertical-align: middle;\n",
       "    }\n",
       "\n",
       "    .dataframe tbody tr th {\n",
       "        vertical-align: top;\n",
       "    }\n",
       "\n",
       "    .dataframe thead th {\n",
       "        text-align: right;\n",
       "    }\n",
       "</style>\n",
       "<table border=\"1\" class=\"dataframe\">\n",
       "  <thead>\n",
       "    <tr style=\"text-align: right;\">\n",
       "      <th></th>\n",
       "      <th>application_id</th>\n",
       "      <th>gender</th>\n",
       "      <th>international</th>\n",
       "      <th>gpa</th>\n",
       "      <th>major</th>\n",
       "      <th>race</th>\n",
       "      <th>gmat</th>\n",
       "      <th>work_exp</th>\n",
       "      <th>work_industry</th>\n",
       "      <th>admission</th>\n",
       "    </tr>\n",
       "  </thead>\n",
       "  <tbody>\n",
       "    <tr>\n",
       "      <th>0</th>\n",
       "      <td>1</td>\n",
       "      <td>Female</td>\n",
       "      <td>False</td>\n",
       "      <td>3.30</td>\n",
       "      <td>Business</td>\n",
       "      <td>Asian</td>\n",
       "      <td>620.0</td>\n",
       "      <td>3.0</td>\n",
       "      <td>Financial Services</td>\n",
       "      <td>Admit</td>\n",
       "    </tr>\n",
       "    <tr>\n",
       "      <th>1</th>\n",
       "      <td>2</td>\n",
       "      <td>Male</td>\n",
       "      <td>False</td>\n",
       "      <td>3.28</td>\n",
       "      <td>Humanities</td>\n",
       "      <td>Black</td>\n",
       "      <td>680.0</td>\n",
       "      <td>5.0</td>\n",
       "      <td>Investment Management</td>\n",
       "      <td>NaN</td>\n",
       "    </tr>\n",
       "    <tr>\n",
       "      <th>2</th>\n",
       "      <td>3</td>\n",
       "      <td>Female</td>\n",
       "      <td>True</td>\n",
       "      <td>3.30</td>\n",
       "      <td>Business</td>\n",
       "      <td>NaN</td>\n",
       "      <td>710.0</td>\n",
       "      <td>5.0</td>\n",
       "      <td>Technology</td>\n",
       "      <td>Admit</td>\n",
       "    </tr>\n",
       "    <tr>\n",
       "      <th>3</th>\n",
       "      <td>4</td>\n",
       "      <td>Male</td>\n",
       "      <td>False</td>\n",
       "      <td>3.47</td>\n",
       "      <td>STEM</td>\n",
       "      <td>Black</td>\n",
       "      <td>690.0</td>\n",
       "      <td>6.0</td>\n",
       "      <td>Technology</td>\n",
       "      <td>NaN</td>\n",
       "    </tr>\n",
       "    <tr>\n",
       "      <th>4</th>\n",
       "      <td>5</td>\n",
       "      <td>Male</td>\n",
       "      <td>False</td>\n",
       "      <td>3.35</td>\n",
       "      <td>STEM</td>\n",
       "      <td>Hispanic</td>\n",
       "      <td>590.0</td>\n",
       "      <td>5.0</td>\n",
       "      <td>Consulting</td>\n",
       "      <td>NaN</td>\n",
       "    </tr>\n",
       "  </tbody>\n",
       "</table>\n",
       "</div>"
      ],
      "text/plain": [
       "   application_id  gender  international   gpa       major      race   gmat  \\\n",
       "0               1  Female          False  3.30    Business     Asian  620.0   \n",
       "1               2    Male          False  3.28  Humanities     Black  680.0   \n",
       "2               3  Female           True  3.30    Business       NaN  710.0   \n",
       "3               4    Male          False  3.47        STEM     Black  690.0   \n",
       "4               5    Male          False  3.35        STEM  Hispanic  590.0   \n",
       "\n",
       "   work_exp          work_industry admission  \n",
       "0       3.0     Financial Services     Admit  \n",
       "1       5.0  Investment Management       NaN  \n",
       "2       5.0             Technology     Admit  \n",
       "3       6.0             Technology       NaN  \n",
       "4       5.0             Consulting       NaN  "
      ]
     },
     "execution_count": 2,
     "metadata": {},
     "output_type": "execute_result"
    }
   ],
   "source": [
    "mbaData = pd.read_csv('MBA.csv')\n",
    "mbaData.head()"
   ]
  },
  {
   "cell_type": "code",
   "execution_count": 3,
   "metadata": {},
   "outputs": [
    {
     "data": {
      "text/plain": [
       "(6194, 10)"
      ]
     },
     "execution_count": 3,
     "metadata": {},
     "output_type": "execute_result"
    }
   ],
   "source": [
    "mbaData.shape   # Count of Rows and Columns"
   ]
  },
  {
   "cell_type": "code",
   "execution_count": 4,
   "metadata": {},
   "outputs": [
    {
     "name": "stdout",
     "output_type": "stream",
     "text": [
      "<class 'pandas.core.frame.DataFrame'>\n",
      "RangeIndex: 6194 entries, 0 to 6193\n",
      "Data columns (total 10 columns):\n",
      " #   Column          Non-Null Count  Dtype  \n",
      "---  ------          --------------  -----  \n",
      " 0   application_id  6194 non-null   int64  \n",
      " 1   gender          6194 non-null   object \n",
      " 2   international   6194 non-null   bool   \n",
      " 3   gpa             6194 non-null   float64\n",
      " 4   major           6194 non-null   object \n",
      " 5   race            4352 non-null   object \n",
      " 6   gmat            6194 non-null   float64\n",
      " 7   work_exp        6194 non-null   float64\n",
      " 8   work_industry   6194 non-null   object \n",
      " 9   admission       1000 non-null   object \n",
      "dtypes: bool(1), float64(3), int64(1), object(5)\n",
      "memory usage: 441.7+ KB\n"
     ]
    }
   ],
   "source": [
    "mbaData.info()"
   ]
  },
  {
   "cell_type": "markdown",
   "metadata": {},
   "source": [
    "- FEATURE NAMES AND TARGET VARIABLES"
   ]
  },
  {
   "cell_type": "code",
   "execution_count": 5,
   "metadata": {},
   "outputs": [
    {
     "name": "stdout",
     "output_type": "stream",
     "text": [
      "FEATURES NAMES: ['application_id', 'gender', 'international', 'gpa', 'major', 'race', 'gmat', 'work_exp', 'work_industry', 'admission']\n",
      "TARGET VARIABLE: ADMISSION\n"
     ]
    }
   ],
   "source": [
    "print(\"FEATURES NAMES:\", mbaData.columns.tolist()) # Features Names\n",
    "print(\"TARGET VARIABLE:\", (mbaData.columns.tolist()[-1].upper())) # Target Variable"
   ]
  },
  {
   "cell_type": "markdown",
   "metadata": {},
   "source": [
    "- PRESENCE OF MISSING VALUES"
   ]
  },
  {
   "cell_type": "code",
   "execution_count": 6,
   "metadata": {},
   "outputs": [
    {
     "data": {
      "text/plain": [
       "application_id       0\n",
       "gender               0\n",
       "international        0\n",
       "gpa                  0\n",
       "major                0\n",
       "race              1842\n",
       "gmat                 0\n",
       "work_exp             0\n",
       "work_industry        0\n",
       "admission         5194\n",
       "dtype: int64"
      ]
     },
     "execution_count": 6,
     "metadata": {},
     "output_type": "execute_result"
    }
   ],
   "source": [
    "mbaData.isnull().sum()"
   ]
  },
  {
   "cell_type": "markdown",
   "metadata": {},
   "source": [
    "- CATEGORICAL COLUMNS"
   ]
  },
  {
   "cell_type": "code",
   "execution_count": 7,
   "metadata": {},
   "outputs": [
    {
     "data": {
      "text/plain": [
       "['gender', 'major', 'race', 'work_industry', 'admission']"
      ]
     },
     "execution_count": 7,
     "metadata": {},
     "output_type": "execute_result"
    }
   ],
   "source": [
    "[col for col in mbaData.columns if mbaData[col].dtype == 'object']"
   ]
  },
  {
   "cell_type": "markdown",
   "metadata": {},
   "source": [
    "____________________________________________________________________________________________________________________________________________________________________________________________"
   ]
  },
  {
   "cell_type": "markdown",
   "metadata": {},
   "source": [
    "## TASK 2: Data Preprocessing\n",
    "We will describe how we would preprocess the dataset before building a Decision Tree model. We will state steps such as handling missing values, encoding categorical features, and scaling features if necessary."
   ]
  },
  {
   "cell_type": "markdown",
   "metadata": {},
   "source": [
    "Handling Missing Values"
   ]
  },
  {
   "cell_type": "code",
   "execution_count": 8,
   "metadata": {},
   "outputs": [
    {
     "data": {
      "text/plain": [
       "application_id       0\n",
       "gender               0\n",
       "international        0\n",
       "gpa                  0\n",
       "major                0\n",
       "race              1842\n",
       "gmat                 0\n",
       "work_exp             0\n",
       "work_industry        0\n",
       "admission         5194\n",
       "dtype: int64"
      ]
     },
     "execution_count": 8,
     "metadata": {},
     "output_type": "execute_result"
    }
   ],
   "source": [
    "mbaData.isnull().sum()"
   ]
  },
  {
   "cell_type": "markdown",
   "metadata": {},
   "source": [
    "We can clearly see that race and admission column have missing values."
   ]
  },
  {
   "cell_type": "code",
   "execution_count": 9,
   "metadata": {},
   "outputs": [],
   "source": [
    "# Handling Missing Values in 'RACE' column\n",
    "mbaData[\"race\"]=mbaData['race'].fillna(mbaData['race'].mode()[0])"
   ]
  },
  {
   "cell_type": "markdown",
   "metadata": {},
   "source": [
    "Since the RACE column is a categorical feature, the most common practice to handle missing values is to fill it with the mode() [the most occuring value] for the following reasons:\n",
    "- Maintains the existing distribution of categorical data.\n",
    "- Retains more data points for analysis by avoiding row deletion.\n",
    "- Ensures imputed values are representative rather than arbitrary."
   ]
  },
  {
   "cell_type": "markdown",
   "metadata": {},
   "source": [
    "##### For the admission column, even though it is categorical and we could impute the missing values with the mode, we choose not to fill them because it serves as a target variable. Filling these missing values could introduce bias into the dataset."
   ]
  },
  {
   "cell_type": "code",
   "execution_count": 14,
   "metadata": {},
   "outputs": [
    {
     "data": {
      "text/plain": [
       "NaN         5194\n",
       "Admit        900\n",
       "Waitlist     100\n",
       "Name: admission, dtype: int64"
      ]
     },
     "execution_count": 14,
     "metadata": {},
     "output_type": "execute_result"
    }
   ],
   "source": [
    "mbaData['admission'].value_counts(dropna=False)"
   ]
  },
  {
   "cell_type": "markdown",
   "metadata": {},
   "source": [
    "##### Given that the count of null values amounts to 5,194, we cannot afford to drop them, as this would result in a significant loss of data. Instead, we have replaced or encoded the values as follows: 'Admit' as 1, 'Waitlist' as 2, and null values as 0."
   ]
  },
  {
   "cell_type": "code",
   "execution_count": 15,
   "metadata": {},
   "outputs": [
    {
     "data": {
      "text/plain": [
       "0.0    5194\n",
       "1.0     900\n",
       "2.0     100\n",
       "Name: admission, dtype: int64"
      ]
     },
     "execution_count": 15,
     "metadata": {},
     "output_type": "execute_result"
    }
   ],
   "source": [
    "mbaData['admission'] = mbaData['admission'].replace({'Admit': 1, 'Waitlist': 2})\n",
    "mbaData['admission'] = mbaData['admission'].fillna(0)\n",
    "mbaData['admission'].value_counts()"
   ]
  },
  {
   "cell_type": "code",
   "execution_count": 17,
   "metadata": {},
   "outputs": [
    {
     "data": {
      "text/plain": [
       "application_id    0\n",
       "gender            0\n",
       "international     0\n",
       "gpa               0\n",
       "major             0\n",
       "race              0\n",
       "gmat              0\n",
       "work_exp          0\n",
       "work_industry     0\n",
       "admission         0\n",
       "dtype: int64"
      ]
     },
     "execution_count": 17,
     "metadata": {},
     "output_type": "execute_result"
    }
   ],
   "source": [
    "# Checking for null values after data preprocessing\n",
    "mbaData.isnull().sum()"
   ]
  },
  {
   "cell_type": "code",
   "execution_count": null,
   "metadata": {},
   "outputs": [],
   "source": []
  }
 ],
 "metadata": {
  "kernelspec": {
   "display_name": "Python 3",
   "language": "python",
   "name": "python3"
  },
  "language_info": {
   "codemirror_mode": {
    "name": "ipython",
    "version": 3
   },
   "file_extension": ".py",
   "mimetype": "text/x-python",
   "name": "python",
   "nbconvert_exporter": "python",
   "pygments_lexer": "ipython3",
   "version": "3.8.0"
  }
 },
 "nbformat": 4,
 "nbformat_minor": 2
}
